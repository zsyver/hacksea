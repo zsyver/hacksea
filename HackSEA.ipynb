{
  "nbformat": 4,
  "nbformat_minor": 0,
  "metadata": {
    "colab": {
      "provenance": [],
      "collapsed_sections": [],
      "authorship_tag": "ABX9TyOe5QOAAp4lv98t42BKfNVL",
      "include_colab_link": true
    },
    "kernelspec": {
      "name": "python3",
      "display_name": "Python 3"
    },
    "language_info": {
      "name": "python"
    }
  },
  "cells": [
    {
      "cell_type": "markdown",
      "metadata": {
        "id": "view-in-github",
        "colab_type": "text"
      },
      "source": [
        "<a href=\"https://colab.research.google.com/github/zsyver/hackyhackhack/blob/main/HackSEA.ipynb\" target=\"_parent\"><img src=\"https://colab.research.google.com/assets/colab-badge.svg\" alt=\"Open In Colab\"/></a>"
      ]
    },
    {
      "cell_type": "code",
      "source": [
        "import time\n",
        "import uuid\n",
        "list_of_unique_nfts = []\n",
        "\n",
        "def create_nfts(num):\n",
        "  for nft in list(range(num)):\n",
        "    list_of_unique_nfts.append(str(uuid.uuid4()))\n",
        "    time.sleep(.20)\n",
        "    print(\"A unique NFT has been made.\")\n",
        "\n",
        "def how_many_nfts_do_i_have(nft_list):\n",
        "  print(\"You have generated \" + str(len(list_of_unique_nfts)) + \" NFTs.\")\n",
        "  print(\"Here are the first five: \" + str(nft_list[:5]))\n",
        "\n",
        "create_nfts()\n",
        "how_many_nfts_do_i_have()\n"
      ],
      "metadata": {
        "id": "ngZSlsQyGOZf"
      },
      "execution_count": null,
      "outputs": []
    },
    {
      "cell_type": "code",
      "source": [
        "create_nfts(30)"
      ],
      "metadata": {
        "id": "EUFDU8BvHcNH"
      },
      "execution_count": null,
      "outputs": []
    }
  ]
}